{
 "cells": [
  {
   "cell_type": "markdown",
   "id": "6eddeda4",
   "metadata": {},
   "source": [
    "### Project - I (Review Project Analysis)\n",
    "\n",
    "**DESCRIPTION:** Help a leading mobile brand understand the voice of the customer by analyzing the reviews of their product on Amazon and the topics that customers are talking about. You will perform topic modeling on specific parts of speech. You’ll finally interpret the emerging topics.\n",
    "\n",
    "**Problem Statement:** A popular mobile phone brand, Lenovo has launched their budget smartphone in the Indian market. The client wants to understand the VOC (voice of the customer) on the product. This will be useful to not just evaluate the current product, but to also get some direction for developing the product pipeline. The client is particularly interested in the different aspects that customers care about. Product reviews by customers on a leading e-commerce site should provide a good view.\n",
    "\n",
    "**Domain:** Amazon reviews for a leading phone brand\n",
    "\n",
    "**Analysis to be done:** POS tagging, topic modeling using LDA, and topic interpretation\n",
    "\n",
    "**Content:**\n",
    "\n",
    "Dataset: ‘K8 Reviews v0.2.csv’\n",
    "\n",
    "Columns:\n",
    "- Sentiment: The sentiment against the review (4,5 star reviews are positive, 1,2 are negative)\n",
    "- Reviews: The main text of the review\n",
    "\n",
    "**Steps to perform:** Discover the topics in the reviews and present it to business in a consumable format. Employ techniques in syntactic processing and topic modeling.\n",
    "\n",
    "Perform specific cleanup, POS tagging, and restricting to relevant POS tags, then, perform topic modeling using LDA. Finally, give business-friendly names to the topics and make a table for business.\n",
    "\n",
    "**Tasks:**\n",
    "\n",
    "1. Read the .csv file using Pandas. Take a look at the top few records.\n",
    "2. Normalize casings for the review text and extract the text into a list for easier manipulation.\n",
    "3. Tokenize the reviews using NLTKs word_tokenize function.\n",
    "4. Perform parts-of-speech tagging on each sentence using the NLTK POS tagger.\n",
    "5. For the topic model, we should  want to include only nouns.\n",
    "    1. Find out all the POS tags that correspond to nouns.\n",
    "    2. Limit the data to only terms with these tags.\n",
    "6. Lemmatize. \n",
    "    1. Different forms of the terms need to be treated as one.\n",
    "    2. No need to provide POS tag to lemmatizer for now.\n",
    "7. Remove stopwords and punctuation (if there are any). \n",
    "8. Create a topic model using LDA on the cleaned-up data with 12 topics.\n",
    "    1. Print out the top terms for each topic.\n",
    "    2. What is the coherence of the model with the c_v metric?\n",
    "9. Analyze the topics through the business lens.\n",
    "    1. Determine which of the topics can be combined.\n",
    "10. Create topic model using LDA with what you think is the optimal number of topics\n",
    "    1. What is the coherence of the model?\n",
    "11. The business should  be able to interpret the topics.\n",
    "    1. Name each of the identified topics.\n",
    "    2. Create a table with the topic name and the top 10 terms in each to present to the  business."
   ]
  },
  {
   "cell_type": "markdown",
   "id": "96b407f2",
   "metadata": {},
   "source": [
    "#### Task-1: Read the .csv file using Pandas. Take a look at the top few records."
   ]
  },
  {
   "cell_type": "code",
   "execution_count": 1,
   "id": "23765940",
   "metadata": {},
   "outputs": [],
   "source": [
    "import pandas as pd\n",
    "import time\n",
    "\n",
    "start_time = time.time()\n",
    "\n",
    "df = pd.read_csv(\"K8 Reviews v0.2.csv\")"
   ]
  },
  {
   "cell_type": "code",
   "execution_count": 2,
   "id": "aac8e941",
   "metadata": {},
   "outputs": [
    {
     "data": {
      "text/html": [
       "<div>\n",
       "<style scoped>\n",
       "    .dataframe tbody tr th:only-of-type {\n",
       "        vertical-align: middle;\n",
       "    }\n",
       "\n",
       "    .dataframe tbody tr th {\n",
       "        vertical-align: top;\n",
       "    }\n",
       "\n",
       "    .dataframe thead th {\n",
       "        text-align: right;\n",
       "    }\n",
       "</style>\n",
       "<table border=\"1\" class=\"dataframe\">\n",
       "  <thead>\n",
       "    <tr style=\"text-align: right;\">\n",
       "      <th></th>\n",
       "      <th>sentiment</th>\n",
       "      <th>review</th>\n",
       "    </tr>\n",
       "  </thead>\n",
       "  <tbody>\n",
       "    <tr>\n",
       "      <th>0</th>\n",
       "      <td>1</td>\n",
       "      <td>Good but need updates and improvements</td>\n",
       "    </tr>\n",
       "    <tr>\n",
       "      <th>1</th>\n",
       "      <td>0</td>\n",
       "      <td>Worst mobile i have bought ever, Battery is dr...</td>\n",
       "    </tr>\n",
       "    <tr>\n",
       "      <th>2</th>\n",
       "      <td>1</td>\n",
       "      <td>when I will get my 10% cash back.... its alrea...</td>\n",
       "    </tr>\n",
       "    <tr>\n",
       "      <th>3</th>\n",
       "      <td>1</td>\n",
       "      <td>Good</td>\n",
       "    </tr>\n",
       "    <tr>\n",
       "      <th>4</th>\n",
       "      <td>0</td>\n",
       "      <td>The worst phone everThey have changed the last...</td>\n",
       "    </tr>\n",
       "    <tr>\n",
       "      <th>5</th>\n",
       "      <td>0</td>\n",
       "      <td>Only I'm telling don't buyI'm totally disappoi...</td>\n",
       "    </tr>\n",
       "    <tr>\n",
       "      <th>6</th>\n",
       "      <td>1</td>\n",
       "      <td>Phone is awesome. But while charging, it heats...</td>\n",
       "    </tr>\n",
       "    <tr>\n",
       "      <th>7</th>\n",
       "      <td>0</td>\n",
       "      <td>The battery level has worn down</td>\n",
       "    </tr>\n",
       "  </tbody>\n",
       "</table>\n",
       "</div>"
      ],
      "text/plain": [
       "   sentiment                                             review\n",
       "0          1             Good but need updates and improvements\n",
       "1          0  Worst mobile i have bought ever, Battery is dr...\n",
       "2          1  when I will get my 10% cash back.... its alrea...\n",
       "3          1                                               Good\n",
       "4          0  The worst phone everThey have changed the last...\n",
       "5          0  Only I'm telling don't buyI'm totally disappoi...\n",
       "6          1  Phone is awesome. But while charging, it heats...\n",
       "7          0                    The battery level has worn down"
      ]
     },
     "execution_count": 2,
     "metadata": {},
     "output_type": "execute_result"
    }
   ],
   "source": [
    "df.head(8)"
   ]
  },
  {
   "cell_type": "markdown",
   "id": "00bd123f",
   "metadata": {},
   "source": [
    "#### Task-2. Normalize casings for the review text and extract the text into a list for easier manipulation."
   ]
  },
  {
   "cell_type": "code",
   "execution_count": 3,
   "id": "742dab4e",
   "metadata": {},
   "outputs": [],
   "source": [
    "review = df['review'].str.lower().to_list()"
   ]
  },
  {
   "cell_type": "code",
   "execution_count": 4,
   "id": "35b004e5",
   "metadata": {},
   "outputs": [
    {
     "data": {
      "text/plain": [
       "['good but need updates and improvements',\n",
       " \"worst mobile i have bought ever, battery is draining like hell, backup is only 6 to 7 hours with internet uses, even if i put mobile idle its getting discharged.this is biggest lie from amazon & lenove which is not at all expected, they are making full by saying that battery is 4000mah & booster charger is fake, it takes at least 4 to 5 hours to be fully charged.don't know how lenovo will survive by making full of us.please don;t go for this else you will regret like me.\",\n",
       " 'when i will get my 10% cash back.... its already 15 january..',\n",
       " 'good',\n",
       " 'the worst phone everthey have changed the last phone but the problem is still same and the amazon is not returning the phone .highly disappointing of amazon']"
      ]
     },
     "execution_count": 4,
     "metadata": {},
     "output_type": "execute_result"
    }
   ],
   "source": [
    "review[:5]"
   ]
  },
  {
   "cell_type": "markdown",
   "id": "c1ddd010",
   "metadata": {},
   "source": [
    "**Optional Step:** Lets remove special characters and numbers otherwise these characters may spoil text preprocessing."
   ]
  },
  {
   "cell_type": "code",
   "execution_count": 5,
   "id": "9f0defb1",
   "metadata": {},
   "outputs": [],
   "source": [
    "import re\n",
    "\n",
    "review = [re.sub(\"[.,|:='~^0-9\\\\\\]\", \" \", item) for item in review]"
   ]
  },
  {
   "cell_type": "markdown",
   "id": "ca6a4f10",
   "metadata": {},
   "source": [
    "#### Task-3. Tokenize the reviews using NLTKs word_tokenize function."
   ]
  },
  {
   "cell_type": "code",
   "execution_count": 6,
   "id": "182dcac3",
   "metadata": {},
   "outputs": [
    {
     "name": "stdout",
     "output_type": "stream",
     "text": [
      "[['good', 'but', 'need', 'updates', 'and', 'improvements'], ['worst', 'mobile', 'i', 'have', 'bought', 'ever', 'battery', 'is', 'draining', 'like', 'hell', 'backup', 'is', 'only', 'to', 'hours', 'with', 'internet', 'uses', 'even', 'if', 'i', 'put', 'mobile', 'idle', 'its', 'getting', 'discharged', 'this', 'is', 'biggest', 'lie', 'from', 'amazon', '&', 'lenove', 'which', 'is', 'not', 'at', 'all', 'expected', 'they', 'are', 'making', 'full', 'by', 'saying', 'that', 'battery', 'is', 'mah', '&', 'booster', 'charger', 'is', 'fake', 'it', 'takes', 'at', 'least', 'to', 'hours', 'to', 'be', 'fully', 'charged', 'don', 't', 'know', 'how', 'lenovo', 'will', 'survive', 'by', 'making', 'full', 'of', 'us', 'please', 'don', ';', 't', 'go', 'for', 'this', 'else', 'you', 'will', 'regret', 'like', 'me'], ['when', 'i', 'will', 'get', 'my', '%', 'cash', 'back', 'its', 'already', 'january'], ['good'], ['the', 'worst', 'phone', 'everthey', 'have', 'changed', 'the', 'last', 'phone', 'but', 'the', 'problem', 'is', 'still', 'same', 'and', 'the', 'amazon', 'is', 'not', 'returning', 'the', 'phone', 'highly', 'disappointing', 'of', 'amazon']]\n"
     ]
    }
   ],
   "source": [
    "from nltk import word_tokenize\n",
    "\n",
    "review_tokens = [word_tokenize(item) for item in review]\n",
    "print(review_tokens[:5])"
   ]
  },
  {
   "cell_type": "markdown",
   "id": "66557fbb",
   "metadata": {},
   "source": [
    "#### Task-4. Perform parts-of-speech tagging on each sentence using the NLTK POS tagger."
   ]
  },
  {
   "cell_type": "code",
   "execution_count": 7,
   "id": "b013a3ae",
   "metadata": {},
   "outputs": [
    {
     "name": "stdout",
     "output_type": "stream",
     "text": [
      "[[('good', 'JJ'), ('but', 'CC'), ('need', 'VBP'), ('updates', 'NNS'), ('and', 'CC'), ('improvements', 'NNS')], [('worst', 'JJS'), ('mobile', 'NN'), ('i', 'NN'), ('have', 'VBP'), ('bought', 'VBN'), ('ever', 'RB'), ('battery', 'NN'), ('is', 'VBZ'), ('draining', 'VBG'), ('like', 'IN'), ('hell', 'NN'), ('backup', 'NN'), ('is', 'VBZ'), ('only', 'RB'), ('to', 'TO'), ('hours', 'NNS'), ('with', 'IN'), ('internet', 'NN'), ('uses', 'NNS'), ('even', 'RB'), ('if', 'IN'), ('i', 'JJ'), ('put', 'VBP'), ('mobile', 'JJ'), ('idle', 'NN'), ('its', 'PRP$'), ('getting', 'VBG'), ('discharged', 'VBN'), ('this', 'DT'), ('is', 'VBZ'), ('biggest', 'JJS'), ('lie', 'NN'), ('from', 'IN'), ('amazon', 'NN'), ('&', 'CC'), ('lenove', 'NN'), ('which', 'WDT'), ('is', 'VBZ'), ('not', 'RB'), ('at', 'IN'), ('all', 'DT'), ('expected', 'VBN'), ('they', 'PRP'), ('are', 'VBP'), ('making', 'VBG'), ('full', 'JJ'), ('by', 'IN'), ('saying', 'VBG'), ('that', 'DT'), ('battery', 'NN'), ('is', 'VBZ'), ('mah', 'JJ'), ('&', 'CC'), ('booster', 'NN'), ('charger', 'NN'), ('is', 'VBZ'), ('fake', 'JJ'), ('it', 'PRP'), ('takes', 'VBZ'), ('at', 'IN'), ('least', 'JJS'), ('to', 'TO'), ('hours', 'NNS'), ('to', 'TO'), ('be', 'VB'), ('fully', 'RB'), ('charged', 'VBN'), ('don', 'NN'), ('t', 'NN'), ('know', 'VB'), ('how', 'WRB'), ('lenovo', 'JJ'), ('will', 'MD'), ('survive', 'VB'), ('by', 'IN'), ('making', 'VBG'), ('full', 'JJ'), ('of', 'IN'), ('us', 'PRP'), ('please', 'VB'), ('don', 'NN'), (';', ':'), ('t', 'CC'), ('go', 'VB'), ('for', 'IN'), ('this', 'DT'), ('else', 'JJ'), ('you', 'PRP'), ('will', 'MD'), ('regret', 'VB'), ('like', 'IN'), ('me', 'PRP')]]\n"
     ]
    }
   ],
   "source": [
    "from nltk import pos_tag\n",
    "\n",
    "review_postags = [pos_tag(item) for item in review_tokens]\n",
    "print(review_postags[:2])"
   ]
  },
  {
   "cell_type": "markdown",
   "id": "fbb3e3d7",
   "metadata": {},
   "source": [
    "#### Task-5. For the topic model, we should  want to include only nouns.\n",
    "1.\tFind out all the POS tags that correspond to nouns.\n",
    "2.\tLimit the data to only terms with these tags."
   ]
  },
  {
   "cell_type": "code",
   "execution_count": 8,
   "id": "11802be1",
   "metadata": {},
   "outputs": [
    {
     "name": "stdout",
     "output_type": "stream",
     "text": [
      "$: dollar\n",
      "    $ -$ --$ A$ C$ HK$ M$ NZ$ S$ U.S.$ US$\n",
      "'': closing quotation mark\n",
      "    ' ''\n",
      "(: opening parenthesis\n",
      "    ( [ {\n",
      "): closing parenthesis\n",
      "    ) ] }\n",
      ",: comma\n",
      "    ,\n",
      "--: dash\n",
      "    --\n",
      ".: sentence terminator\n",
      "    . ! ?\n",
      ":: colon or ellipsis\n",
      "    : ; ...\n",
      "CC: conjunction, coordinating\n",
      "    & 'n and both but either et for less minus neither nor or plus so\n",
      "    therefore times v. versus vs. whether yet\n",
      "CD: numeral, cardinal\n",
      "    mid-1890 nine-thirty forty-two one-tenth ten million 0.5 one forty-\n",
      "    seven 1987 twenty '79 zero two 78-degrees eighty-four IX '60s .025\n",
      "    fifteen 271,124 dozen quintillion DM2,000 ...\n",
      "DT: determiner\n",
      "    all an another any both del each either every half la many much nary\n",
      "    neither no some such that the them these this those\n",
      "EX: existential there\n",
      "    there\n",
      "FW: foreign word\n",
      "    gemeinschaft hund ich jeux habeas Haementeria Herr K'ang-si vous\n",
      "    lutihaw alai je jour objets salutaris fille quibusdam pas trop Monte\n",
      "    terram fiche oui corporis ...\n",
      "IN: preposition or conjunction, subordinating\n",
      "    astride among uppon whether out inside pro despite on by throughout\n",
      "    below within for towards near behind atop around if like until below\n",
      "    next into if beside ...\n",
      "JJ: adjective or numeral, ordinal\n",
      "    third ill-mannered pre-war regrettable oiled calamitous first separable\n",
      "    ectoplasmic battery-powered participatory fourth still-to-be-named\n",
      "    multilingual multi-disciplinary ...\n",
      "JJR: adjective, comparative\n",
      "    bleaker braver breezier briefer brighter brisker broader bumper busier\n",
      "    calmer cheaper choosier cleaner clearer closer colder commoner costlier\n",
      "    cozier creamier crunchier cuter ...\n",
      "JJS: adjective, superlative\n",
      "    calmest cheapest choicest classiest cleanest clearest closest commonest\n",
      "    corniest costliest crassest creepiest crudest cutest darkest deadliest\n",
      "    dearest deepest densest dinkiest ...\n",
      "LS: list item marker\n",
      "    A A. B B. C C. D E F First G H I J K One SP-44001 SP-44002 SP-44005\n",
      "    SP-44007 Second Third Three Two * a b c d first five four one six three\n",
      "    two\n",
      "MD: modal auxiliary\n",
      "    can cannot could couldn't dare may might must need ought shall should\n",
      "    shouldn't will would\n",
      "NN: noun, common, singular or mass\n",
      "    common-carrier cabbage knuckle-duster Casino afghan shed thermostat\n",
      "    investment slide humour falloff slick wind hyena override subhumanity\n",
      "    machinist ...\n",
      "NNP: noun, proper, singular\n",
      "    Motown Venneboerger Czestochwa Ranzer Conchita Trumplane Christos\n",
      "    Oceanside Escobar Kreisler Sawyer Cougar Yvette Ervin ODI Darryl CTCA\n",
      "    Shannon A.K.C. Meltex Liverpool ...\n",
      "NNPS: noun, proper, plural\n",
      "    Americans Americas Amharas Amityvilles Amusements Anarcho-Syndicalists\n",
      "    Andalusians Andes Andruses Angels Animals Anthony Antilles Antiques\n",
      "    Apache Apaches Apocrypha ...\n",
      "NNS: noun, common, plural\n",
      "    undergraduates scotches bric-a-brac products bodyguards facets coasts\n",
      "    divestitures storehouses designs clubs fragrances averages\n",
      "    subjectivists apprehensions muses factory-jobs ...\n",
      "PDT: pre-determiner\n",
      "    all both half many quite such sure this\n",
      "POS: genitive marker\n",
      "    ' 's\n",
      "PRP: pronoun, personal\n",
      "    hers herself him himself hisself it itself me myself one oneself ours\n",
      "    ourselves ownself self she thee theirs them themselves they thou thy us\n",
      "PRP$: pronoun, possessive\n",
      "    her his mine my our ours their thy your\n",
      "RB: adverb\n",
      "    occasionally unabatingly maddeningly adventurously professedly\n",
      "    stirringly prominently technologically magisterially predominately\n",
      "    swiftly fiscally pitilessly ...\n",
      "RBR: adverb, comparative\n",
      "    further gloomier grander graver greater grimmer harder harsher\n",
      "    healthier heavier higher however larger later leaner lengthier less-\n",
      "    perfectly lesser lonelier longer louder lower more ...\n",
      "RBS: adverb, superlative\n",
      "    best biggest bluntest earliest farthest first furthest hardest\n",
      "    heartiest highest largest least less most nearest second tightest worst\n",
      "RP: particle\n",
      "    aboard about across along apart around aside at away back before behind\n",
      "    by crop down ever fast for forth from go high i.e. in into just later\n",
      "    low more off on open out over per pie raising start teeth that through\n",
      "    under unto up up-pp upon whole with you\n",
      "SYM: symbol\n",
      "    % & ' '' ''. ) ). * + ,. < = > @ A[fj] U.S U.S.S.R * ** ***\n",
      "TO: \"to\" as preposition or infinitive marker\n",
      "    to\n",
      "UH: interjection\n",
      "    Goodbye Goody Gosh Wow Jeepers Jee-sus Hubba Hey Kee-reist Oops amen\n",
      "    huh howdy uh dammit whammo shucks heck anyways whodunnit honey golly\n",
      "    man baby diddle hush sonuvabitch ...\n",
      "VB: verb, base form\n",
      "    ask assemble assess assign assume atone attention avoid bake balkanize\n",
      "    bank begin behold believe bend benefit bevel beware bless boil bomb\n",
      "    boost brace break bring broil brush build ...\n",
      "VBD: verb, past tense\n",
      "    dipped pleaded swiped regummed soaked tidied convened halted registered\n",
      "    cushioned exacted snubbed strode aimed adopted belied figgered\n",
      "    speculated wore appreciated contemplated ...\n",
      "VBG: verb, present participle or gerund\n",
      "    telegraphing stirring focusing angering judging stalling lactating\n",
      "    hankerin' alleging veering capping approaching traveling besieging\n",
      "    encrypting interrupting erasing wincing ...\n",
      "VBN: verb, past participle\n",
      "    multihulled dilapidated aerosolized chaired languished panelized used\n",
      "    experimented flourished imitated reunifed factored condensed sheared\n",
      "    unsettled primed dubbed desired ...\n",
      "VBP: verb, present tense, not 3rd person singular\n",
      "    predominate wrap resort sue twist spill cure lengthen brush terminate\n",
      "    appear tend stray glisten obtain comprise detest tease attract\n",
      "    emphasize mold postpone sever return wag ...\n",
      "VBZ: verb, present tense, 3rd person singular\n",
      "    bases reconstructs marks mixes displeases seals carps weaves snatches\n",
      "    slumps stretches authorizes smolders pictures emerges stockpiles\n",
      "    seduces fizzes uses bolsters slaps speaks pleads ...\n",
      "WDT: WH-determiner\n",
      "    that what whatever which whichever\n",
      "WP: WH-pronoun\n",
      "    that what whatever whatsoever which who whom whosoever\n",
      "WP$: WH-pronoun, possessive\n",
      "    whose\n",
      "WRB: Wh-adverb\n",
      "    how however whence whenever where whereby whereever wherein whereof why\n",
      "``: opening quotation mark\n",
      "    ` ``\n"
     ]
    }
   ],
   "source": [
    "import nltk\n",
    "nltk.help.upenn_tagset()"
   ]
  },
  {
   "cell_type": "code",
   "execution_count": 9,
   "id": "74c24c97",
   "metadata": {},
   "outputs": [
    {
     "name": "stdout",
     "output_type": "stream",
     "text": [
      "[['updates', 'improvements'], ['mobile', 'i', 'battery', 'hell', 'backup', 'hours', 'internet', 'uses', 'idle', 'lie', 'amazon', 'lenove', 'battery', 'booster', 'charger', 'hours', 'don', 't', 'don'], ['i', '%', 'cash'], [], ['phone', 'everthey', 'phone', 'problem', 'amazon', 'phone', 'amazon']]\n"
     ]
    }
   ],
   "source": [
    "noun_tags = ['NN', 'NNS', 'NNP', 'NNPS']\n",
    "\n",
    "review_postags_nouns = []\n",
    "\n",
    "for item in review_postags:\n",
    "    noun_tokens = [token_tag[0] for token_tag in item if token_tag[1] in noun_tags]\n",
    "    review_postags_nouns.append(noun_tokens)\n",
    "    \n",
    "print(review_postags_nouns[:5])"
   ]
  },
  {
   "cell_type": "markdown",
   "id": "5e14eb77",
   "metadata": {},
   "source": [
    "#### Task-6. Lemmatize. \n",
    "1.\tDifferent forms of the terms need to be treated as one.\n",
    "2.\tNo need to provide POS tag to lemmatizer for now."
   ]
  },
  {
   "cell_type": "code",
   "execution_count": 10,
   "id": "dc437e6a",
   "metadata": {},
   "outputs": [
    {
     "name": "stdout",
     "output_type": "stream",
     "text": [
      "[['update', 'improvement'], ['mobile', 'i', 'battery', 'hell', 'backup', 'hour', 'internet', 'us', 'idle', 'lie', 'amazon', 'lenove', 'battery', 'booster', 'charger', 'hour', 'don', 't', 'don'], ['i', '%', 'cash'], [], ['phone', 'everthey', 'phone', 'problem', 'amazon', 'phone', 'amazon']]\n"
     ]
    }
   ],
   "source": [
    "from nltk import WordNetLemmatizer\n",
    "\n",
    "wnl = WordNetLemmatizer()\n",
    "\n",
    "review_postags_nouns_lemmed = []\n",
    "\n",
    "for item in review_postags_nouns:\n",
    "    lemmed_tokens = [wnl.lemmatize(token, 'n') for token in item]\n",
    "    review_postags_nouns_lemmed.append(lemmed_tokens)\n",
    "    \n",
    "print(review_postags_nouns_lemmed[:5])"
   ]
  },
  {
   "cell_type": "markdown",
   "id": "b5d3b961",
   "metadata": {},
   "source": [
    "#### Task-7. Remove stopwords and punctuation (if there are any). "
   ]
  },
  {
   "cell_type": "code",
   "execution_count": 11,
   "id": "f858ec19",
   "metadata": {},
   "outputs": [
    {
     "name": "stdout",
     "output_type": "stream",
     "text": [
      "[['update', 'improvement'], ['mobile', 'battery', 'hell', 'backup', 'hour', 'internet', 'us', 'idle', 'lie', 'amazon', 'lenove', 'battery', 'booster', 'charger', 'hour'], ['cash'], [], ['phone', 'everthey', 'phone', 'problem', 'amazon', 'phone', 'amazon']]\n"
     ]
    }
   ],
   "source": [
    "from nltk.corpus import stopwords\n",
    "import string\n",
    "\n",
    "sw = stopwords.words(\"english\")\n",
    "punc = list(string.punctuation)\n",
    "\n",
    "custom_sw = sw + punc\n",
    "\n",
    "review_preprocessed = []\n",
    "\n",
    "for item in review_postags_nouns_lemmed:\n",
    "    if len(item)>0:        \n",
    "        preprocessed_tokens = [token for token in item if token not in custom_sw and len(token)>1]\n",
    "        review_preprocessed.append(preprocessed_tokens)\n",
    "    else:\n",
    "        review_preprocessed.append(item)\n",
    "    \n",
    "print(review_preprocessed[:5])"
   ]
  },
  {
   "cell_type": "markdown",
   "id": "fd7c3c8b",
   "metadata": {},
   "source": [
    "#### Task-8. Create a topic model using LDA on the cleaned-up data with 12 topics.\n",
    "1.\tPrint out the top terms for each topic.\n",
    "2.\tWhat is the coherence of the model with the c_v metric?"
   ]
  },
  {
   "cell_type": "code",
   "execution_count": 12,
   "id": "25ac4bc9",
   "metadata": {},
   "outputs": [],
   "source": [
    "import gensim\n",
    "from gensim.corpora import Dictionary\n",
    "import numpy as np\n",
    "\n",
    "np.random.seed(100)"
   ]
  },
  {
   "cell_type": "code",
   "execution_count": 13,
   "id": "8d3e5ac8",
   "metadata": {},
   "outputs": [],
   "source": [
    "dictionary = Dictionary(review_preprocessed)"
   ]
  },
  {
   "cell_type": "code",
   "execution_count": 14,
   "id": "18c64a17",
   "metadata": {},
   "outputs": [
    {
     "data": {
      "text/plain": [
       "gensim.corpora.dictionary.Dictionary"
      ]
     },
     "execution_count": 14,
     "metadata": {},
     "output_type": "execute_result"
    }
   ],
   "source": [
    "type(dictionary)"
   ]
  },
  {
   "cell_type": "code",
   "execution_count": 15,
   "id": "bb0b428a",
   "metadata": {},
   "outputs": [],
   "source": [
    "dictionary.filter_extremes(no_below=5, no_above=.8 ,keep_n=None)"
   ]
  },
  {
   "cell_type": "code",
   "execution_count": 16,
   "id": "d7fc14ca",
   "metadata": {},
   "outputs": [
    {
     "name": "stdout",
     "output_type": "stream",
     "text": [
      "Dictionary(1128 unique tokens: ['improvement', 'update', 'amazon', 'backup', 'battery']...)\n"
     ]
    }
   ],
   "source": [
    "print(dictionary)"
   ]
  },
  {
   "cell_type": "code",
   "execution_count": 17,
   "id": "f796126d",
   "metadata": {},
   "outputs": [],
   "source": [
    "bow_text = [dictionary.doc2bow(item) for item in review_preprocessed]"
   ]
  },
  {
   "cell_type": "code",
   "execution_count": 18,
   "id": "4bb19e17",
   "metadata": {},
   "outputs": [
    {
     "data": {
      "text/plain": [
       "[[(0, 1), (1, 1)],\n",
       " [(2, 1),\n",
       "  (3, 1),\n",
       "  (4, 2),\n",
       "  (5, 1),\n",
       "  (6, 1),\n",
       "  (7, 1),\n",
       "  (8, 2),\n",
       "  (9, 1),\n",
       "  (10, 1),\n",
       "  (11, 1),\n",
       "  (12, 1),\n",
       "  (13, 1)],\n",
       " [(14, 1)],\n",
       " [],\n",
       " [(2, 2), (15, 3), (16, 1)]]"
      ]
     },
     "execution_count": 18,
     "metadata": {},
     "output_type": "execute_result"
    }
   ],
   "source": [
    "bow_text[:5]"
   ]
  },
  {
   "cell_type": "code",
   "execution_count": 19,
   "id": "86c02613",
   "metadata": {},
   "outputs": [
    {
     "name": "stdout",
     "output_type": "stream",
     "text": [
      "Word 'amazon' comes 2 times in this sample review\n",
      "Word 'phone' comes 3 times in this sample review\n",
      "Word 'problem' comes 1 times in this sample review\n"
     ]
    }
   ],
   "source": [
    "sample_bow = bow_text[4]\n",
    "\n",
    "for item in sample_bow:\n",
    "    print(\"Word '{}' comes {} times in this sample review\".format(dictionary[item[0]], item[1]))"
   ]
  },
  {
   "cell_type": "code",
   "execution_count": 20,
   "id": "62060ecc",
   "metadata": {},
   "outputs": [],
   "source": [
    "# Let us create LDA model from Gensim library\n",
    "\n",
    "lda_model = gensim.models.LdaMulticore(bow_text, \n",
    "                                   num_topics = 12, \n",
    "                                   id2word = dictionary,\n",
    "                                   random_state=1,                                    \n",
    "                                   passes = 50)"
   ]
  },
  {
   "cell_type": "code",
   "execution_count": 21,
   "id": "4152a612",
   "metadata": {},
   "outputs": [
    {
     "name": "stdout",
     "output_type": "stream",
     "text": [
      "\n",
      "Topic: 0 \n",
      "Words: 0.272*\"battery\" + 0.076*\"hour\" + 0.065*\"time\" + 0.063*\"charger\" + 0.044*\"charge\" + 0.038*\"life\" + 0.036*\"day\" + 0.033*\"turbo\" + 0.031*\"drain\" + 0.030*\"hr\"\n",
      "\n",
      "Topic: 1 \n",
      "Words: 0.064*\"use\" + 0.056*\"superb\" + 0.054*\"star\" + 0.039*\"min\" + 0.036*\"data\" + 0.033*\"wifi\" + 0.031*\"internet\" + 0.023*\"heat\" + 0.020*\"month\" + 0.020*\"cable\"\n",
      "\n",
      "Topic: 2 \n",
      "Words: 0.106*\"phone\" + 0.060*\"amazon\" + 0.057*\"price\" + 0.053*\"service\" + 0.042*\"product\" + 0.039*\"day\" + 0.033*\"device\" + 0.026*\"delivery\" + 0.024*\"customer\" + 0.023*\"range\"\n",
      "\n",
      "Topic: 3 \n",
      "Words: 0.055*\"phone\" + 0.049*\"processor\" + 0.038*\"camera\" + 0.032*\"ram\" + 0.026*\"gb\" + 0.025*\"budget\" + 0.023*\"game\" + 0.023*\"smartphone\" + 0.019*\"device\" + 0.019*\"apps\"\n",
      "\n",
      "Topic: 4 \n",
      "Words: 0.295*\"camera\" + 0.167*\"quality\" + 0.035*\"sound\" + 0.030*\"display\" + 0.021*\"everything\" + 0.019*\"performance\" + 0.019*\"front\" + 0.017*\"feature\" + 0.017*\"price\" + 0.016*\"clarity\"\n",
      "\n",
      "Topic: 5 \n",
      "Words: 0.213*\"issue\" + 0.130*\"phone\" + 0.073*\"lenovo\" + 0.043*\"update\" + 0.038*\"software\" + 0.032*\"month\" + 0.028*\"note\" + 0.024*\"heating\" + 0.021*\"lot\" + 0.019*\"system\"\n",
      "\n",
      "Topic: 6 \n",
      "Words: 0.400*\"mobile\" + 0.150*\"performance\" + 0.074*\"heat\" + 0.061*\"battery\" + 0.024*\"note\" + 0.022*\"pls\" + 0.021*\"piece\" + 0.013*\"cost\" + 0.012*\"hotspot\" + 0.010*\"amount\"\n",
      "\n",
      "Topic: 7 \n",
      "Words: 0.519*\"phone\" + 0.056*\"call\" + 0.038*\"speaker\" + 0.029*\"feature\" + 0.018*\"contact\" + 0.016*\"earphone\" + 0.012*\"ok\" + 0.011*\"message\" + 0.011*\"side\" + 0.010*\"recorder\"\n",
      "\n",
      "Topic: 8 \n",
      "Words: 0.112*\"note\" + 0.066*\"screen\" + 0.065*\"feature\" + 0.037*\"option\" + 0.026*\"music\" + 0.025*\"lenovo\" + 0.020*\"cast\" + 0.018*\"app\" + 0.016*\"button\" + 0.015*\"power\"\n",
      "\n",
      "Topic: 9 \n",
      "Words: 0.111*\"network\" + 0.068*\"problem\" + 0.062*\"sim\" + 0.046*\"hai\" + 0.033*\"jio\" + 0.030*\"work\" + 0.025*\"time\" + 0.025*\"volta\" + 0.021*\"signal\" + 0.021*\"call\"\n",
      "\n",
      "Topic: 10 \n",
      "Words: 0.140*\"phone\" + 0.128*\"battery\" + 0.087*\"camera\" + 0.066*\"backup\" + 0.030*\"day\" + 0.030*\"mode\" + 0.027*\"performance\" + 0.023*\"price\" + 0.017*\"experience\" + 0.016*\"bit\"\n",
      "\n",
      "Topic: 11 \n",
      "Words: 0.324*\"product\" + 0.214*\"problem\" + 0.112*\"money\" + 0.065*\"heating\" + 0.052*\"waste\" + 0.041*\"value\" + 0.011*\"gud\" + 0.010*\"please\" + 0.009*\"month\" + 0.009*\"dont\"\n"
     ]
    }
   ],
   "source": [
    "for idx, topic in lda_model.print_topics(-1):\n",
    "    print(\"\\nTopic: {} \\nWords: {}\".format(idx, topic ))"
   ]
  },
  {
   "cell_type": "code",
   "execution_count": 22,
   "id": "7c6c4ded",
   "metadata": {},
   "outputs": [],
   "source": [
    "from gensim.models import CoherenceModel"
   ]
  },
  {
   "cell_type": "code",
   "execution_count": 23,
   "id": "5ce37298",
   "metadata": {},
   "outputs": [
    {
     "name": "stdout",
     "output_type": "stream",
     "text": [
      "Coherence Score for this LDA model is:  0.5558224125871732\n"
     ]
    }
   ],
   "source": [
    "coherence_score = CoherenceModel(model=lda_model, texts=review_preprocessed, dictionary=dictionary, coherence='c_v')\n",
    "coherence_lda = coherence_score.get_coherence()\n",
    "print('Coherence Score for this LDA model is: ', coherence_lda)"
   ]
  },
  {
   "cell_type": "markdown",
   "id": "c06799aa",
   "metadata": {},
   "source": [
    "#### Task-9. Analyze the topics through the business lens.\n",
    "1.\tDetermine which of the topics can be combined."
   ]
  },
  {
   "cell_type": "code",
   "execution_count": 24,
   "id": "88b73ecc",
   "metadata": {},
   "outputs": [],
   "source": [
    "# Let us visualize topics in our text\n",
    "\n",
    "import pyLDAvis\n",
    "from pyLDAvis import gensim_models"
   ]
  },
  {
   "cell_type": "code",
   "execution_count": 25,
   "id": "4594acf0",
   "metadata": {},
   "outputs": [
    {
     "name": "stderr",
     "output_type": "stream",
     "text": [
      "C:\\ProgramData\\Anaconda3\\lib\\site-packages\\ipykernel\\ipkernel.py:287: DeprecationWarning: `should_run_async` will not call `transform_cell` automatically in the future. Please pass the result to `transformed_cell` argument and any exception that happen during thetransform in `preprocessing_exc_tuple` in IPython 7.17 and above.\n",
      "  and should_run_async(code)\n"
     ]
    }
   ],
   "source": [
    "import warnings\n",
    "warnings.simplefilter('ignore')\n",
    "\n",
    "pyLDAvis.enable_notebook()"
   ]
  },
  {
   "cell_type": "code",
   "execution_count": 26,
   "id": "1e7d4f6c",
   "metadata": {},
   "outputs": [],
   "source": [
    "LDAvis_prepared = pyLDAvis.gensim_models.prepare(lda_model, bow_text, dictionary)"
   ]
  },
  {
   "cell_type": "code",
   "execution_count": 27,
   "id": "dbbc7d73",
   "metadata": {},
   "outputs": [],
   "source": [
    "pyLDAvis.save_html(LDAvis_prepared, 'LDA_model_vis'+'.html')"
   ]
  },
  {
   "cell_type": "markdown",
   "id": "8f506f86",
   "metadata": {},
   "source": [
    "**Answer:** From topics printed above and model visualization, it can be concluded that following topics can be clubbed together:\n",
    "- Topic- 1, 5 and 8\n",
    "- Topic- 4 and 7\n",
    "- Topic- 2 and 3\n",
    "- Topic- 6 and 11\n",
    "- Topic- 9 and 10\n",
    "- Topic- 12"
   ]
  },
  {
   "cell_type": "markdown",
   "id": "a551d754",
   "metadata": {},
   "source": [
    "#### Task-10. Create topic model using LDA with what you think is the optimal number of topics\n",
    "1.\tWhat is the coherence of the model?"
   ]
  },
  {
   "cell_type": "code",
   "execution_count": 28,
   "id": "a7a18c40",
   "metadata": {},
   "outputs": [
    {
     "name": "stdout",
     "output_type": "stream",
     "text": [
      "\n",
      "Topic: 0 \n",
      "Words: 0.201*\"battery\" + 0.056*\"phone\" + 0.046*\"hour\" + 0.039*\"charger\" + 0.038*\"backup\" + 0.029*\"day\" + 0.029*\"life\" + 0.028*\"charge\" + 0.027*\"time\" + 0.025*\"heat\"\n",
      "\n",
      "Topic: 1 \n",
      "Words: 0.046*\"screen\" + 0.039*\"call\" + 0.038*\"option\" + 0.034*\"speaker\" + 0.033*\"note\" + 0.020*\"feature\" + 0.019*\"app\" + 0.019*\"mobile\" + 0.015*\"music\" + 0.015*\"superb\"\n",
      "\n",
      "Topic: 2 \n",
      "Words: 0.173*\"product\" + 0.042*\"amazon\" + 0.037*\"service\" + 0.028*\"money\" + 0.024*\"day\" + 0.023*\"waste\" + 0.020*\"lenovo\" + 0.020*\"time\" + 0.018*\"device\" + 0.018*\"delivery\"\n",
      "\n",
      "Topic: 3 \n",
      "Words: 0.346*\"phone\" + 0.060*\"price\" + 0.042*\"feature\" + 0.022*\"range\" + 0.019*\"money\" + 0.017*\"value\" + 0.014*\"lenovo\" + 0.013*\"budget\" + 0.012*\"android\" + 0.011*\"stock\"\n",
      "\n",
      "Topic: 4 \n",
      "Words: 0.230*\"camera\" + 0.094*\"quality\" + 0.067*\"mobile\" + 0.051*\"battery\" + 0.048*\"performance\" + 0.021*\"sound\" + 0.018*\"mode\" + 0.018*\"display\" + 0.016*\"everything\" + 0.013*\"backup\"\n",
      "\n",
      "Topic: 5 \n",
      "Words: 0.121*\"problem\" + 0.107*\"phone\" + 0.104*\"issue\" + 0.066*\"note\" + 0.043*\"heating\" + 0.042*\"network\" + 0.029*\"lenovo\" + 0.024*\"update\" + 0.022*\"sim\" + 0.019*\"software\"\n"
     ]
    }
   ],
   "source": [
    "# From our exercise in previous step, we find that optimum no. of topics will 6 for given text.\n",
    "# Let us again create model with 6 topics\n",
    "\n",
    "lda_model1 = gensim.models.LdaMulticore(bow_text, \n",
    "                                   num_topics = 6, \n",
    "                                   id2word = dictionary,  \n",
    "                                   random_state=1,\n",
    "                                   passes = 50)\n",
    "\n",
    "for idx, topic in lda_model1.print_topics(-1):\n",
    "    print(\"\\nTopic: {} \\nWords: {}\".format(idx, topic ))"
   ]
  },
  {
   "cell_type": "code",
   "execution_count": 29,
   "id": "1351e96e",
   "metadata": {},
   "outputs": [
    {
     "name": "stdout",
     "output_type": "stream",
     "text": [
      "Coherence Score for new LDA model_1 is:  0.6521650462859487\n"
     ]
    }
   ],
   "source": [
    "coherence_score1 = CoherenceModel(model=lda_model1, texts=review_preprocessed, dictionary=dictionary, coherence='c_v')\n",
    "coherence_lda1 = coherence_score1.get_coherence()\n",
    "print('Coherence Score for new LDA model_1 is: ', coherence_lda1)"
   ]
  },
  {
   "cell_type": "markdown",
   "id": "d4df4caf",
   "metadata": {},
   "source": [
    "#### Task-11. The business should  be able to interpret the topics.\n",
    "1.\tName each of the identified topics.\n",
    "2.\tCreate a table with the topic name and the top 10 terms in each to present to the  business."
   ]
  },
  {
   "cell_type": "code",
   "execution_count": 30,
   "id": "18a2f127",
   "metadata": {},
   "outputs": [
    {
     "data": {
      "text/html": [
       "<div>\n",
       "<style scoped>\n",
       "    .dataframe tbody tr th:only-of-type {\n",
       "        vertical-align: middle;\n",
       "    }\n",
       "\n",
       "    .dataframe tbody tr th {\n",
       "        vertical-align: top;\n",
       "    }\n",
       "\n",
       "    .dataframe thead th {\n",
       "        text-align: right;\n",
       "    }\n",
       "</style>\n",
       "<table border=\"1\" class=\"dataframe\">\n",
       "  <thead>\n",
       "    <tr style=\"text-align: right;\">\n",
       "      <th></th>\n",
       "      <th>Topic_1</th>\n",
       "      <th>Topic_2</th>\n",
       "      <th>Topic_3</th>\n",
       "      <th>Topic_4</th>\n",
       "      <th>Topic_5</th>\n",
       "      <th>Topic_6</th>\n",
       "    </tr>\n",
       "  </thead>\n",
       "  <tbody>\n",
       "    <tr>\n",
       "      <th>Word_1</th>\n",
       "      <td>battery</td>\n",
       "      <td>screen</td>\n",
       "      <td>product</td>\n",
       "      <td>phone</td>\n",
       "      <td>camera</td>\n",
       "      <td>problem</td>\n",
       "    </tr>\n",
       "    <tr>\n",
       "      <th>Word_2</th>\n",
       "      <td>phone</td>\n",
       "      <td>call</td>\n",
       "      <td>amazon</td>\n",
       "      <td>price</td>\n",
       "      <td>quality</td>\n",
       "      <td>phone</td>\n",
       "    </tr>\n",
       "    <tr>\n",
       "      <th>Word_3</th>\n",
       "      <td>hour</td>\n",
       "      <td>option</td>\n",
       "      <td>service</td>\n",
       "      <td>feature</td>\n",
       "      <td>mobile</td>\n",
       "      <td>issue</td>\n",
       "    </tr>\n",
       "    <tr>\n",
       "      <th>Word_4</th>\n",
       "      <td>charger</td>\n",
       "      <td>speaker</td>\n",
       "      <td>money</td>\n",
       "      <td>range</td>\n",
       "      <td>battery</td>\n",
       "      <td>note</td>\n",
       "    </tr>\n",
       "    <tr>\n",
       "      <th>Word_5</th>\n",
       "      <td>backup</td>\n",
       "      <td>note</td>\n",
       "      <td>day</td>\n",
       "      <td>money</td>\n",
       "      <td>performance</td>\n",
       "      <td>heating</td>\n",
       "    </tr>\n",
       "    <tr>\n",
       "      <th>Word_6</th>\n",
       "      <td>day</td>\n",
       "      <td>feature</td>\n",
       "      <td>waste</td>\n",
       "      <td>value</td>\n",
       "      <td>sound</td>\n",
       "      <td>network</td>\n",
       "    </tr>\n",
       "    <tr>\n",
       "      <th>Word_7</th>\n",
       "      <td>life</td>\n",
       "      <td>app</td>\n",
       "      <td>lenovo</td>\n",
       "      <td>lenovo</td>\n",
       "      <td>mode</td>\n",
       "      <td>lenovo</td>\n",
       "    </tr>\n",
       "    <tr>\n",
       "      <th>Word_8</th>\n",
       "      <td>charge</td>\n",
       "      <td>mobile</td>\n",
       "      <td>time</td>\n",
       "      <td>budget</td>\n",
       "      <td>display</td>\n",
       "      <td>update</td>\n",
       "    </tr>\n",
       "    <tr>\n",
       "      <th>Word_9</th>\n",
       "      <td>time</td>\n",
       "      <td>music</td>\n",
       "      <td>device</td>\n",
       "      <td>android</td>\n",
       "      <td>everything</td>\n",
       "      <td>sim</td>\n",
       "    </tr>\n",
       "    <tr>\n",
       "      <th>Word_10</th>\n",
       "      <td>heat</td>\n",
       "      <td>superb</td>\n",
       "      <td>delivery</td>\n",
       "      <td>stock</td>\n",
       "      <td>backup</td>\n",
       "      <td>software</td>\n",
       "    </tr>\n",
       "  </tbody>\n",
       "</table>\n",
       "</div>"
      ],
      "text/plain": [
       "         Topic_1  Topic_2   Topic_3  Topic_4      Topic_5   Topic_6\n",
       "Word_1   battery   screen   product    phone       camera   problem\n",
       "Word_2     phone     call    amazon    price      quality     phone\n",
       "Word_3      hour   option   service  feature       mobile     issue\n",
       "Word_4   charger  speaker     money    range      battery      note\n",
       "Word_5    backup     note       day    money  performance   heating\n",
       "Word_6       day  feature     waste    value        sound   network\n",
       "Word_7      life      app    lenovo   lenovo         mode    lenovo\n",
       "Word_8    charge   mobile      time   budget      display    update\n",
       "Word_9      time    music    device  android   everything       sim\n",
       "Word_10     heat   superb  delivery    stock       backup  software"
      ]
     },
     "execution_count": 30,
     "metadata": {},
     "output_type": "execute_result"
    }
   ],
   "source": [
    "topic_words = {}\n",
    "\n",
    "for idx, topic in lda_model1.print_topics(-1): \n",
    "    temp = []\n",
    "    for item in topic.split('+'):\n",
    "        item_alpha = [letter for letter in item if letter.isalpha()]\n",
    "        temp.append(\"\".join(item_alpha))    \n",
    "    topic_words[('Topic_'+str(idx+1))] = temp\n",
    "\n",
    "topic_table = pd.DataFrame(topic_words)    \n",
    "topic_table.index = ['Word_'+str(i+1) for i in range(topic_table.shape[0])]\n",
    "topic_table"
   ]
  },
  {
   "cell_type": "markdown",
   "id": "8ce088aa",
   "metadata": {},
   "source": [
    "#### Topics according to above table:\n",
    "- Topic 1: Battery Charging Time and Backup\n",
    "- Topic 2: Screen and Speaker\n",
    "- Topic 3: Overall Service\n",
    "- Topic 4: Price and Value for Money\n",
    "- Topic 5: Camera Quality & Battery Performance\n",
    "- Topic 6: Problems in Phone"
   ]
  },
  {
   "cell_type": "markdown",
   "id": "edd16116",
   "metadata": {},
   "source": [
    "#### Another method to print table of topics-words:"
   ]
  },
  {
   "cell_type": "code",
   "execution_count": 31,
   "id": "8f52ff69",
   "metadata": {},
   "outputs": [
    {
     "data": {
      "text/plain": [
       "[(0,\n",
       "  [('battery', 0.20146361),\n",
       "   ('phone', 0.056217175),\n",
       "   ('hour', 0.046134613),\n",
       "   ('charger', 0.039011948),\n",
       "   ('backup', 0.037642494),\n",
       "   ('day', 0.029444695),\n",
       "   ('life', 0.028981982),\n",
       "   ('charge', 0.02757468),\n",
       "   ('time', 0.027095284),\n",
       "   ('heat', 0.02451619)]),\n",
       " (1,\n",
       "  [('screen', 0.04578664),\n",
       "   ('call', 0.0387779),\n",
       "   ('option', 0.037541877),\n",
       "   ('speaker', 0.03352352),\n",
       "   ('note', 0.03343935),\n",
       "   ('feature', 0.0201642),\n",
       "   ('app', 0.019448888),\n",
       "   ('mobile', 0.018761748),\n",
       "   ('music', 0.015398961),\n",
       "   ('superb', 0.014905993)]),\n",
       " (2,\n",
       "  [('product', 0.17258413),\n",
       "   ('amazon', 0.042288005),\n",
       "   ('service', 0.036922492),\n",
       "   ('money', 0.028111745),\n",
       "   ('day', 0.023756752),\n",
       "   ('waste', 0.02300188),\n",
       "   ('lenovo', 0.019892301),\n",
       "   ('time', 0.01961759),\n",
       "   ('device', 0.018222963),\n",
       "   ('delivery', 0.018084608)]),\n",
       " (3,\n",
       "  [('phone', 0.3464384),\n",
       "   ('price', 0.060063317),\n",
       "   ('feature', 0.04176926),\n",
       "   ('range', 0.02201355),\n",
       "   ('money', 0.019040186),\n",
       "   ('value', 0.016864127),\n",
       "   ('lenovo', 0.013619816),\n",
       "   ('budget', 0.012890928),\n",
       "   ('android', 0.012493938),\n",
       "   ('stock', 0.01129084)]),\n",
       " (4,\n",
       "  [('camera', 0.2295034),\n",
       "   ('quality', 0.09403529),\n",
       "   ('mobile', 0.067453586),\n",
       "   ('battery', 0.051363103),\n",
       "   ('performance', 0.048303913),\n",
       "   ('sound', 0.020556677),\n",
       "   ('mode', 0.018438432),\n",
       "   ('display', 0.018316604),\n",
       "   ('everything', 0.015778856),\n",
       "   ('backup', 0.013017665)]),\n",
       " (5,\n",
       "  [('problem', 0.12062384),\n",
       "   ('phone', 0.10657427),\n",
       "   ('issue', 0.10445848),\n",
       "   ('note', 0.06572083),\n",
       "   ('heating', 0.0429078),\n",
       "   ('network', 0.04159757),\n",
       "   ('lenovo', 0.029131493),\n",
       "   ('update', 0.023836877),\n",
       "   ('sim', 0.02233816),\n",
       "   ('software', 0.019264765)])]"
      ]
     },
     "execution_count": 31,
     "metadata": {},
     "output_type": "execute_result"
    }
   ],
   "source": [
    "lda_model1.show_topics(formatted=False)"
   ]
  },
  {
   "cell_type": "code",
   "execution_count": 32,
   "id": "b0b676e4",
   "metadata": {},
   "outputs": [
    {
     "name": "stdout",
     "output_type": "stream",
     "text": [
      "0::['battery', 'phone', 'hour', 'charger', 'backup', 'day', 'life', 'charge', 'time', 'heat']\n",
      "1::['screen', 'call', 'option', 'speaker', 'note', 'feature', 'app', 'mobile', 'music', 'superb']\n",
      "2::['product', 'amazon', 'service', 'money', 'day', 'waste', 'lenovo', 'time', 'device', 'delivery']\n",
      "3::['phone', 'price', 'feature', 'range', 'money', 'value', 'lenovo', 'budget', 'android', 'stock']\n",
      "4::['camera', 'quality', 'mobile', 'battery', 'performance', 'sound', 'mode', 'display', 'everything', 'backup']\n",
      "5::['problem', 'phone', 'issue', 'note', 'heating', 'network', 'lenovo', 'update', 'sim', 'software']\n",
      "\n"
     ]
    }
   ],
   "source": [
    "x = lda_model1.show_topics(formatted=False)\n",
    "topics_words = [(tp[0], [wd[0] for wd in tp[1]]) for tp in x]\n",
    "\n",
    "for topic, words in topics_words:\n",
    "    print(str(topic)+\"::\"+str(words))\n",
    "    \n",
    "print()"
   ]
  },
  {
   "cell_type": "code",
   "execution_count": 33,
   "id": "0582b923",
   "metadata": {},
   "outputs": [],
   "source": [
    "LDAvis_prepared1 = pyLDAvis.gensim_models.prepare(lda_model1, bow_text, dictionary)\n",
    "pyLDAvis.save_html(LDAvis_prepared1, 'LDA_model_vis_1'+'.html')"
   ]
  },
  {
   "cell_type": "markdown",
   "id": "e9a1feb1",
   "metadata": {},
   "source": [
    "#### Topics according to topic modelling visualization:\n",
    "- Topic 1: Camera Quality, Battery Performance, Sound, Display\n",
    "- Topic 2: Price, Feature, Money Value, Budget\n",
    "- Topic 3: Problem, Heating, Network, software\n",
    "- Topic 4: Service, Waste, Delivery\n",
    "- Topic 5: Battery Backup, Charge time\n",
    "- Topic 6: Screen, Call, Speaker, Features"
   ]
  },
  {
   "cell_type": "code",
   "execution_count": null,
   "id": "99b042be",
   "metadata": {},
   "outputs": [],
   "source": []
  }
 ],
 "metadata": {
  "kernelspec": {
   "display_name": "Python 3",
   "language": "python",
   "name": "python3"
  },
  "language_info": {
   "codemirror_mode": {
    "name": "ipython",
    "version": 3
   },
   "file_extension": ".py",
   "mimetype": "text/x-python",
   "name": "python",
   "nbconvert_exporter": "python",
   "pygments_lexer": "ipython3",
   "version": "3.8.8"
  }
 },
 "nbformat": 4,
 "nbformat_minor": 5
}
